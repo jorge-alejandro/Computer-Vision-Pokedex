{
  "nbformat": 4,
  "nbformat_minor": 0,
  "metadata": {
    "colab": {
      "name": "Image_Downloader_Bing_Search_API.ipynb",
      "provenance": [],
      "collapsed_sections": []
    },
    "kernelspec": {
      "name": "python3",
      "display_name": "Python 3"
    },
    "language_info": {
      "name": "python"
    },
    "accelerator": "GPU"
  },
  "cells": [
    {
      "cell_type": "code",
      "metadata": {
        "id": "eMzSS0gKzhvR"
      },
      "source": [
        "#Instalamos las librerias de Fastai\n",
        "#Esto nos va a montar también el google drive donde están las imagenes"
      ],
      "execution_count": null,
      "outputs": []
    },
    {
      "cell_type": "code",
      "metadata": {
        "colab": {
          "base_uri": "https://localhost:8080/"
        },
        "id": "KjUd8t0AyyFj",
        "outputId": "f4794f89-fea8-4565-bc44-6996f78b97b3"
      },
      "source": [
        "!pip install -Uqq fastbook\n",
        "import fastbook\n",
        "fastbook.setup_book()"
      ],
      "execution_count": null,
      "outputs": [
        {
          "output_type": "stream",
          "text": [
            "\u001b[K     |████████████████████████████████| 727kB 8.7MB/s \n",
            "\u001b[K     |████████████████████████████████| 1.2MB 19.5MB/s \n",
            "\u001b[K     |████████████████████████████████| 51kB 7.5MB/s \n",
            "\u001b[K     |████████████████████████████████| 194kB 47.0MB/s \n",
            "\u001b[K     |████████████████████████████████| 51kB 8.7MB/s \n",
            "\u001b[K     |████████████████████████████████| 61kB 9.1MB/s \n",
            "\u001b[K     |████████████████████████████████| 12.8MB 198kB/s \n",
            "\u001b[K     |████████████████████████████████| 776.8MB 23kB/s \n",
            "\u001b[31mERROR: torchtext 0.9.1 has requirement torch==1.8.1, but you'll have torch 1.7.1 which is incompatible.\u001b[0m\n",
            "\u001b[?25hMounted at /content/gdrive\n"
          ],
          "name": "stdout"
        }
      ]
    },
    {
      "cell_type": "code",
      "metadata": {
        "id": "ETXSCA7qztlY"
      },
      "source": [
        "#nos traemos otras cuantas librerias"
      ],
      "execution_count": null,
      "outputs": []
    },
    {
      "cell_type": "code",
      "metadata": {
        "id": "WpbiEsqzzeep"
      },
      "source": [
        "from fastbook import *\n",
        "from fastai.vision.widgets import *"
      ],
      "execution_count": null,
      "outputs": []
    },
    {
      "cell_type": "markdown",
      "metadata": {
        "id": "HQPIcohOzsZv"
      },
      "source": [
        "# clean\n",
        "To download images with Bing Image Search, sign up at [Microsoft Azure](https://azure.microsoft.com/en-us/services/cognitive-services/bing-web-search-api/) for a free account. You will be given a key, which you can copy and enter in a cell as follows (replacing 'XXX' with your key and executing it):"
      ]
    },
    {
      "cell_type": "code",
      "metadata": {
        "id": "TpO6NXovzzAt"
      },
      "source": [
        "key = os.environ.get('AZURE_SEARCH_KEY', '87e5a6d573ee485aa278450c4697ecef')"
      ],
      "execution_count": null,
      "outputs": []
    },
    {
      "cell_type": "markdown",
      "metadata": {
        "id": "b9WsM5MT_mO1"
      },
      "source": [
        "Once you've set `key`, you can use `search_images_bing`. This function is provided by the small `utils` class included with the notebooks online. If you're not sure where a function is defined, you can just type it in your notebook to find out:\n"
      ]
    },
    {
      "cell_type": "code",
      "metadata": {
        "colab": {
          "base_uri": "https://localhost:8080/"
        },
        "id": "ZNDPp0BU_uBI",
        "outputId": "c1cec489-0cb3-4a0c-dab3-9f3146218989"
      },
      "source": [
        "search_images_bing\n"
      ],
      "execution_count": null,
      "outputs": [
        {
          "output_type": "execute_result",
          "data": {
            "text/plain": [
              "<function fastbook.search_images_bing>"
            ]
          },
          "metadata": {
            "tags": []
          },
          "execution_count": 4
        }
      ]
    },
    {
      "cell_type": "markdown",
      "metadata": {
        "id": "LOlBrJpUAFs3"
      },
      "source": [
        "This seems to have worked nicely, so let's use fastai's `download_images` to download all the URLs for each of our search terms. We'll put each in a separate folder:\n"
      ]
    },
    {
      "cell_type": "code",
      "metadata": {
        "id": "jYZ5F-9K_vRL"
      },
      "source": [
        "Pokemons_types = \"Bulbasaur\",\"Ivysaur\",\"Venusaur\",\"Charmander\",\"Charmeleon\",\"Charizard\",\"Squirtle\",\"Wartortle\",\"Blastoise\",\"Caterpie\",\\\n",
        "\"Metapod\",\"Butterfree\",\"Weedle\",\"Kakuna\",\"Beedrill\",\"Pidgey\",\"Pidgeotto\",\"Pidgeot\",\"Rattata\",\"Raticate\",\"Spearow\",\"Fearow\",\"Ekans\",\"Arbok\",\\\n",
        "\"Pikachu\",\"Raichu\",\"Sandshrew\",\"Sandslash\",\"Nidoran♀\",\"Nidorina\",\"Nidoqueen\",\"Nidoran♂\",\"Nidorino\",\"Nidoking\",\"Clefairy\",\"Clefable\",\"Vulpix\",\\\n",
        "\"Ninetales\",\"Jigglypuff\",\"Wigglytuff\",\"Zubat\",\"Golbat\",\"Oddish\",\"Vileplume\",\"Paras\",\"Parasect\",\"Venonat\",\"Venomoth\",\"Diglett\",\"Dugtrio\",\\\n",
        "\"Meowth\",\"Persian\",\"Psyduck\",\"Golduck\",\"Mankey\",\"Primeape\",\"Growlithe\",\"Arcanine\",\"Poliwag\",\"Poliwhirl\",\"Poliwrath\",\"Abra\",\"Kadabra\",\"Alakazam\",\\\n",
        "\"Machop\",\"Machoke\",\"Machamp\",\"Bellsprout\",\"Weepinbell\",\"Victreebel\",\"Tentacool\",\"Tentacruel\",\"Geodude\",\"Graveler\",\"Golem\",\"Ponyta\",\"Rapidash\",\\\n",
        "\"Slowpoke\",\"Slowbro\",\"Magnemite\",\"Magneton\",\"Farfetch'd\",\"Doduo\",\"Dodrio\",\"Seel\",\"Dewgong\",\"Grimer\",\"Muk\",\"Shellder\",\"Cloyster\",\"Gastly\",\"Haunter\",\\\n",
        "\"Gengar\",\"Onix\",\"Drowzee\",\"Hypno\",\"Krabby\",\"Kingler\",\"Voltorb\",\"Electrode\",\"Exeggcute\",\"Exeggutor\",\"Cubone\",\"Marowak\",\"Hitmonlee\",\"Hitmonchan\",\\\n",
        "\"Lickitung\",\"Koffing\",\"Weezing\",\"Rhyhorn\",\"Rhydon\",\"Chansey\",\"Tangela\",\"Kangaskhan\",\"Horsea\",\"Seadra\",\"Goldeen\",\"Seaking\",\"Staryu\",\"Starmie\",\\\n",
        "\"Mr. Mime\",\"Scyther\",\"Jynx\",\"Electabuzz\",\"Magmar\",\"Pinsir\",\"Tauros\",\"Magikarp\",\"Gyarados\",\"Lapras\",\"Ditto\",\"Eevee\",\"Vaporeon\",\"Jolteon\",\"Flareon\",\\\n",
        "\"Porygon\",\"Omanyte\",\"Omastar\",\"Kabuto\",\"Kabutops\",\"Aerodactyl\",\"Snorlax\",\"Articuno\",\"Zapdos\",\"Moltres\",\"Dratini\",\"Dragonair\",\"Dragonite\",\"Mewtwo\",\"Mew\",\n",
        "\n",
        "path = Path('/content/gdrive/My Drive/pokemon_data')"
      ],
      "execution_count": null,
      "outputs": []
    },
    {
      "cell_type": "code",
      "metadata": {
        "id": "YaIL0bLQ_63M",
        "colab": {
          "base_uri": "https://localhost:8080/"
        },
        "outputId": "8aeba7f7-ccd7-4d8e-8aed-0e1d3b38e66e"
      },
      "source": [
        "if not path.exists():\n",
        "    path.mkdir()\n",
        "    for o in Pokemons_types:\n",
        "        dest = (path/o)\n",
        "        dest.mkdir(exist_ok=True)\n",
        "        results = search_images_bing(key, f'{o} pokemon')\n",
        "        download_images(dest, urls=results.attrgot('contentUrl'))"
      ],
      "execution_count": null,
      "outputs": [
        {
          "output_type": "stream",
          "text": [
            "\n",
            " Download of https://pod.pokellector.com/cards/166/Nidoqueen.PCL.68.png has failed after 5 retries\n",
            " Fix the download manually:\n",
            "$ mkdir -p /content/gdrive/My Drive/pokemon_data/Nidoqueen\n",
            "$ cd /content/gdrive/My Drive/pokemon_data/Nidoqueen\n",
            "$ wget -c https://pod.pokellector.com/cards/166/Nidoqueen.PCL.68.png\n",
            "$ tar xf Nidoqueen.PCL.68.png\n",
            " And re-run your code once the download is successful\n",
            "\n",
            "\n",
            " Download of http://pod.pokellector.com/cards/192/Nidorino.STS.44.png has failed after 5 retries\n",
            " Fix the download manually:\n",
            "$ mkdir -p /content/gdrive/My Drive/pokemon_data/Nidorino\n",
            "$ cd /content/gdrive/My Drive/pokemon_data/Nidorino\n",
            "$ wget -c http://pod.pokellector.com/cards/192/Nidorino.STS.44.png\n",
            "$ tar xf Nidorino.STS.44.png\n",
            " And re-run your code once the download is successful\n",
            "\n",
            "\n",
            " Download of https://pod.pokellector.com/cards/197/Nidorino.EVO.44.png has failed after 5 retries\n",
            " Fix the download manually:\n",
            "$ mkdir -p /content/gdrive/My Drive/pokemon_data/Nidorino\n",
            "$ cd /content/gdrive/My Drive/pokemon_data/Nidorino\n",
            "$ wget -c https://pod.pokellector.com/cards/197/Nidorino.EVO.44.png\n",
            "$ tar xf Nidorino.EVO.44.png\n",
            " And re-run your code once the download is successful\n",
            "\n",
            "\n",
            " Download of http://pod.pokellector.com/cards/121/Golbat.FO.34.png has failed after 5 retries\n",
            " Fix the download manually:\n",
            "$ mkdir -p /content/gdrive/My Drive/pokemon_data/Golbat\n",
            "$ cd /content/gdrive/My Drive/pokemon_data/Golbat\n",
            "$ wget -c http://pod.pokellector.com/cards/121/Golbat.FO.34.png\n",
            "$ tar xf Golbat.FO.34.png\n",
            " And re-run your code once the download is successful\n",
            "\n",
            "\n",
            " Download of https://pod.pokellector.com/cards/45/Mankey.GE.79.png has failed after 5 retries\n",
            " Fix the download manually:\n",
            "$ mkdir -p /content/gdrive/My Drive/pokemon_data/Mankey\n",
            "$ cd /content/gdrive/My Drive/pokemon_data/Mankey\n",
            "$ wget -c https://pod.pokellector.com/cards/45/Mankey.GE.79.png\n",
            "$ tar xf Mankey.GE.79.png\n",
            " And re-run your code once the download is successful\n",
            "\n",
            "\n",
            " Download of https://pod.pokellector.com/cards/227/Primeape.SM4A.24.18594.png has failed after 5 retries\n",
            " Fix the download manually:\n",
            "$ mkdir -p /content/gdrive/My Drive/pokemon_data/Primeape\n",
            "$ cd /content/gdrive/My Drive/pokemon_data/Primeape\n",
            "$ wget -c https://pod.pokellector.com/cards/227/Primeape.SM4A.24.18594.png\n",
            "$ tar xf Primeape.SM4A.24.18594.png\n",
            " And re-run your code once the download is successful\n",
            "\n",
            "\n",
            " Download of http://pod.pokellector.com/cards/61/Poliwag.UF.67.png has failed after 5 retries\n",
            " Fix the download manually:\n",
            "$ mkdir -p /content/gdrive/My Drive/pokemon_data/Poliwag\n",
            "$ cd /content/gdrive/My Drive/pokemon_data/Poliwag\n",
            "$ wget -c http://pod.pokellector.com/cards/61/Poliwag.UF.67.png\n",
            "$ tar xf Poliwag.UF.67.png\n",
            " And re-run your code once the download is successful\n",
            "\n",
            "\n",
            " Download of https://pod.pokellector.com/cards/157/Victreebel.XY3.3.png has failed after 5 retries\n",
            " Fix the download manually:\n",
            "$ mkdir -p /content/gdrive/My Drive/pokemon_data/Victreebel\n",
            "$ cd /content/gdrive/My Drive/pokemon_data/Victreebel\n",
            "$ wget -c https://pod.pokellector.com/cards/157/Victreebel.XY3.3.png\n",
            "$ tar xf Victreebel.XY3.3.png\n",
            " And re-run your code once the download is successful\n",
            "\n",
            "\n",
            " Download of https://pod.pokellector.com/cards/41/Geodude.AR.65.png has failed after 5 retries\n",
            " Fix the download manually:\n",
            "$ mkdir -p /content/gdrive/My Drive/pokemon_data/Geodude\n",
            "$ cd /content/gdrive/My Drive/pokemon_data/Geodude\n",
            "$ wget -c https://pod.pokellector.com/cards/41/Geodude.AR.65.png\n",
            "$ tar xf Geodude.AR.65.png\n",
            " And re-run your code once the download is successful\n",
            "\n",
            "\n",
            " Download of https://pod.pokellector.com/cards/48/Rapidash.SF.22.png has failed after 5 retries\n",
            " Fix the download manually:\n",
            "$ mkdir -p /content/gdrive/My Drive/pokemon_data/Rapidash\n",
            "$ cd /content/gdrive/My Drive/pokemon_data/Rapidash\n",
            "$ wget -c https://pod.pokellector.com/cards/48/Rapidash.SF.22.png\n",
            "$ tar xf Rapidash.SF.22.png\n",
            " And re-run your code once the download is successful\n",
            "\n",
            "\n",
            " Download of https://pod.pokellector.com/cards/47/Cubone.LA.90.png has failed after 5 retries\n",
            " Fix the download manually:\n",
            "$ mkdir -p /content/gdrive/My Drive/pokemon_data/Cubone\n",
            "$ cd /content/gdrive/My Drive/pokemon_data/Cubone\n",
            "$ wget -c https://pod.pokellector.com/cards/47/Cubone.LA.90.png\n",
            "$ tar xf Cubone.LA.90.png\n",
            " And re-run your code once the download is successful\n",
            "\n",
            "\n",
            " Download of https://pod.pokellector.com/cards/122/Cubone.B2.70.png has failed after 5 retries\n",
            " Fix the download manually:\n",
            "$ mkdir -p /content/gdrive/My Drive/pokemon_data/Cubone\n",
            "$ cd /content/gdrive/My Drive/pokemon_data/Cubone\n",
            "$ wget -c https://pod.pokellector.com/cards/122/Cubone.B2.70.png\n",
            "$ tar xf Cubone.B2.70.png\n",
            " And re-run your code once the download is successful\n",
            "\n",
            "\n",
            " Download of https://pod.pokellector.com/cards/261/Hitmonchan.SM9.74.26567.png has failed after 5 retries\n",
            " Fix the download manually:\n",
            "$ mkdir -p /content/gdrive/My Drive/pokemon_data/Hitmonchan\n",
            "$ cd /content/gdrive/My Drive/pokemon_data/Hitmonchan\n",
            "$ wget -c https://pod.pokellector.com/cards/261/Hitmonchan.SM9.74.26567.png\n",
            "$ tar xf Hitmonchan.SM9.74.26567.png\n",
            " And re-run your code once the download is successful\n",
            "\n",
            "\n",
            " Download of https://pod.pokellector.com/cards/58/Rockets-Hitmonchan-ex.RR.98.png has failed after 5 retries\n",
            " Fix the download manually:\n",
            "$ mkdir -p /content/gdrive/My Drive/pokemon_data/Hitmonchan\n",
            "$ cd /content/gdrive/My Drive/pokemon_data/Hitmonchan\n",
            "$ wget -c https://pod.pokellector.com/cards/58/Rockets-Hitmonchan-ex.RR.98.png\n",
            "$ tar xf Rockets-Hitmonchan-ex.RR.98.png\n",
            " And re-run your code once the download is successful\n",
            "\n",
            "\n",
            " Download of https://vignette.wikia.nocookie.net/pokemon/images/2/2e/Roxie_Koffing.png/revision/latest?cb=20150529045623 has failed after 5 retries\n",
            " Fix the download manually:\n",
            "$ mkdir -p /content/gdrive/My Drive/pokemon_data/Koffing\n",
            "$ cd /content/gdrive/My Drive/pokemon_data/Koffing\n",
            "$ wget -c https://vignette.wikia.nocookie.net/pokemon/images/2/2e/Roxie_Koffing.png/revision/latest?cb=20150529045623\n",
            "$ tar xf latest?cb=20150529045623\n",
            " And re-run your code once the download is successful\n",
            "\n",
            "\n",
            " Download of https://vignette.wikia.nocookie.net/pokemon/images/a/ae/Hiker's_Rhyhorn.jpg/revision/latest?cb=20131223223432 has failed after 5 retries\n",
            " Fix the download manually:\n",
            "$ mkdir -p /content/gdrive/My Drive/pokemon_data/Rhyhorn\n",
            "$ cd /content/gdrive/My Drive/pokemon_data/Rhyhorn\n",
            "$ wget -c https://vignette.wikia.nocookie.net/pokemon/images/a/ae/Hiker's_Rhyhorn.jpg/revision/latest?cb=20131223223432\n",
            "$ tar xf latest?cb=20131223223432\n",
            " And re-run your code once the download is successful\n",
            "\n",
            "\n",
            " Download of https://pod.pokellector.com/cards/117/Brocks-Rhyhorn-lv-29.G1.70.png has failed after 5 retries\n",
            " Fix the download manually:\n",
            "$ mkdir -p /content/gdrive/My Drive/pokemon_data/Rhyhorn\n",
            "$ cd /content/gdrive/My Drive/pokemon_data/Rhyhorn\n",
            "$ wget -c https://pod.pokellector.com/cards/117/Brocks-Rhyhorn-lv-29.G1.70.png\n",
            "$ tar xf Brocks-Rhyhorn-lv-29.G1.70.png\n",
            " And re-run your code once the download is successful\n",
            "\n",
            "\n",
            " Download of http://img4.wikia.nocookie.net/__cb20140316064552/pokemon/images/c/cd/Team_Rocket_Rhydon.png has failed after 5 retries\n",
            " Fix the download manually:\n",
            "$ mkdir -p /content/gdrive/My Drive/pokemon_data/Rhydon\n",
            "$ cd /content/gdrive/My Drive/pokemon_data/Rhydon\n",
            "$ wget -c http://img4.wikia.nocookie.net/__cb20140316064552/pokemon/images/c/cd/Team_Rocket_Rhydon.png\n",
            "$ tar xf Team_Rocket_Rhydon.png\n",
            " And re-run your code once the download is successful\n",
            "\n"
          ],
          "name": "stdout"
        }
      ]
    },
    {
      "cell_type": "markdown",
      "metadata": {
        "id": "t_EDYyqBAezi"
      },
      "source": [
        "Our folder has image files, as we'd expect:"
      ]
    },
    {
      "cell_type": "code",
      "metadata": {
        "id": "PRshx4SsAatM",
        "colab": {
          "base_uri": "https://localhost:8080/"
        },
        "outputId": "5e60e49a-a05b-46a5-cbc1-b6edaf665d25"
      },
      "source": [
        "fns = get_image_files(path)\n",
        "fns"
      ],
      "execution_count": null,
      "outputs": [
        {
          "output_type": "execute_result",
          "data": {
            "text/plain": [
              "(#21282) [Path('/content/gdrive/My Drive/pokemon_data/Bulbasaur/00000006.jpg'),Path('/content/gdrive/My Drive/pokemon_data/Bulbasaur/00000005.jpg'),Path('/content/gdrive/My Drive/pokemon_data/Bulbasaur/00000003.png'),Path('/content/gdrive/My Drive/pokemon_data/Bulbasaur/00000000.jpg'),Path('/content/gdrive/My Drive/pokemon_data/Bulbasaur/00000001.png'),Path('/content/gdrive/My Drive/pokemon_data/Bulbasaur/00000012.jpg'),Path('/content/gdrive/My Drive/pokemon_data/Bulbasaur/00000009.png'),Path('/content/gdrive/My Drive/pokemon_data/Bulbasaur/00000010.png'),Path('/content/gdrive/My Drive/pokemon_data/Bulbasaur/00000013.png'),Path('/content/gdrive/My Drive/pokemon_data/Bulbasaur/00000002.png')...]"
            ]
          },
          "metadata": {
            "tags": []
          },
          "execution_count": 7
        }
      ]
    },
    {
      "cell_type": "markdown",
      "metadata": {
        "id": "1ao1xETzArrq"
      },
      "source": [
        "Often when we download files from the internet, there are a few that are corrupt. Let's check:"
      ]
    },
    {
      "cell_type": "code",
      "metadata": {
        "id": "_urJZg3dAxRu",
        "colab": {
          "base_uri": "https://localhost:8080/"
        },
        "outputId": "04525b4f-6464-439d-b713-9fbecb9f6869"
      },
      "source": [
        "failed = verify_images(fns)\n",
        "failed"
      ],
      "execution_count": null,
      "outputs": [
        {
          "output_type": "stream",
          "text": [
            "/usr/local/lib/python3.7/dist-packages/PIL/Image.py:2800: DecompressionBombWarning: Image size (91670000 pixels) exceeds limit of 89478485 pixels, could be decompression bomb DOS attack.\n",
            "  DecompressionBombWarning,\n",
            "/usr/local/lib/python3.7/dist-packages/PIL/TiffImagePlugin.py:770: UserWarning: Possibly corrupt EXIF data.  Expecting to read 206 bytes but only got 0. Skipping tag 0\n",
            "  \" Skipping tag %s\" % (size, len(data), tag)\n",
            "/usr/local/lib/python3.7/dist-packages/PIL/TiffImagePlugin.py:770: UserWarning: Possibly corrupt EXIF data.  Expecting to read 724 bytes but only got 0. Skipping tag 0\n",
            "  \" Skipping tag %s\" % (size, len(data), tag)\n",
            "/usr/local/lib/python3.7/dist-packages/PIL/TiffImagePlugin.py:770: UserWarning: Possibly corrupt EXIF data.  Expecting to read 65536 bytes but only got 0. Skipping tag 0\n",
            "  \" Skipping tag %s\" % (size, len(data), tag)\n",
            "/usr/local/lib/python3.7/dist-packages/PIL/TiffImagePlugin.py:770: UserWarning: Possibly corrupt EXIF data.  Expecting to read 170 bytes but only got 0. Skipping tag 0\n",
            "  \" Skipping tag %s\" % (size, len(data), tag)\n",
            "/usr/local/lib/python3.7/dist-packages/PIL/TiffImagePlugin.py:770: UserWarning: Possibly corrupt EXIF data.  Expecting to read 178 bytes but only got 0. Skipping tag 0\n",
            "  \" Skipping tag %s\" % (size, len(data), tag)\n",
            "/usr/local/lib/python3.7/dist-packages/PIL/TiffImagePlugin.py:788: UserWarning: Corrupt EXIF data.  Expecting to read 12 bytes but only got 3. \n",
            "  warnings.warn(str(msg))\n"
          ],
          "name": "stderr"
        },
        {
          "output_type": "execute_result",
          "data": {
            "text/plain": [
              "(#167) [Path('/content/gdrive/My Drive/pokemon_data/Bulbasaur/00000062.png'),Path('/content/gdrive/My Drive/pokemon_data/Bulbasaur/00000130.jpg'),Path('/content/gdrive/My Drive/pokemon_data/Bulbasaur/00000147.jpg'),Path('/content/gdrive/My Drive/pokemon_data/Ivysaur/00000100.png'),Path('/content/gdrive/My Drive/pokemon_data/Venusaur/00000051.png'),Path('/content/gdrive/My Drive/pokemon_data/Charmander/00000008.png'),Path('/content/gdrive/My Drive/pokemon_data/Charmander/00000081.png'),Path('/content/gdrive/My Drive/pokemon_data/Charmeleon/00000101.png'),Path('/content/gdrive/My Drive/pokemon_data/Charizard/00000012.jpg'),Path('/content/gdrive/My Drive/pokemon_data/Squirtle/00000053.png')...]"
            ]
          },
          "metadata": {
            "tags": []
          },
          "execution_count": 8
        }
      ]
    },
    {
      "cell_type": "markdown",
      "metadata": {
        "id": "hApOoyaeA3AA"
      },
      "source": [
        "To remove all the failed images, you can use unlink on each of them. Note that, like most fastai functions that return a collection, verify_images returns an object of type L, which includes the map method. This calls the passed function on each element of the collection:"
      ]
    },
    {
      "cell_type": "code",
      "metadata": {
        "id": "dAr4giUWA_IP"
      },
      "source": [
        "failed.map(Path.unlink);"
      ],
      "execution_count": null,
      "outputs": []
    }
  ]
}